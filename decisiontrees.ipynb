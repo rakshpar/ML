{
 "cells": [
  {
   "cell_type": "code",
   "execution_count": 78,
   "metadata": {
    "collapsed": true
   },
   "outputs": [],
   "source": [
    "import math"
   ]
  },
  {
   "cell_type": "code",
   "execution_count": 79,
   "metadata": {
    "collapsed": false
   },
   "outputs": [],
   "source": [
    "def gini_index(groups,classes):\n",
    "    n_instances = float(sum([len(group) for group in groups]))\n",
    "    gini = 0.0\n",
    "    for group in groups:\n",
    "        size = float(len(group))\n",
    "        if size == 0:\n",
    "            continue\n",
    "        score  = 0.0\n",
    "        for class_val in classes:\n",
    "            p = [row[-1] for row in group].count(class_val) / size\n",
    "            score += p * p\n",
    "        gini += (1 - score) * (size / n_instances)\n",
    "    return gini        "
   ]
  },
  {
   "cell_type": "code",
   "execution_count": 99,
   "metadata": {
    "collapsed": false
   },
   "outputs": [],
   "source": [
    "def log_entropy(groups,classes):\n",
    "    n_instances = float(sum([len(group) for group in groups]))\n",
    "    total_groups = list()\n",
    "    ig = 0.0\n",
    "    for group in groups:\n",
    "        for row in group:\n",
    "            total_groups.append(row)\n",
    "        size = float(len(group))\n",
    "        if size == 0:\n",
    "            continue\n",
    "        score = 0.0\n",
    "        for class_val in classes:\n",
    "            p = [row[-1] for row in group].count(class_val) / size\n",
    "            if p == 0.0:\n",
    "                continue\n",
    "            logp = p * math.log(p,2)\n",
    "            #print(logp)\n",
    "            score += (-1)*logp\n",
    "        ig += (size/n_instances) * score\n",
    "    #print('ig::',ig)\n",
    "    score = 0.0\n",
    "    for class_val in classes:\n",
    "        p = [row[-1] for row in total_groups].count(class_val) / n_instances\n",
    "        # print(p)\n",
    "        logp = p * math.log(p,2)\n",
    "        #print(logp)\n",
    "        score += (-1)*logp\n",
    "    #print('parent entropy',score)\n",
    "    return score - ig"
   ]
  },
  {
   "cell_type": "code",
   "execution_count": 81,
   "metadata": {
    "collapsed": false
   },
   "outputs": [
    {
     "name": "stdout",
     "output_type": "stream",
     "text": [
      "0.5\n",
      "0.26546003016591246\n"
     ]
    }
   ],
   "source": [
    "print(gini_index([[[1, 1], [1, 0]], [[1, 1], [1, 0]]], [0, 1]))\n",
    "print(gini_index([[[1, 0], [1, 0],[1, 0], [1, 0],[1, 1], [1, 1],[1, 1], [1, 1],[1, 1], [1, 1],[1, 1],\n",
    "                   [1, 1],[1, 1], [1, 1],[1, 1], [1, 1],[1,1]], [[1, 1], [1, 0],[1, 0], [1, 0],[1, 0], [1, 0],[1, 0], \n",
    "                                                                 [1, 0],[1, 0], [1, 0],[1, 0], [1, 0],[1, 0]\n",
    "                                                                ]], [0, 1]))"
   ]
  },
  {
   "cell_type": "code",
   "execution_count": 82,
   "metadata": {
    "collapsed": false
   },
   "outputs": [
    {
     "name": "stdout",
     "output_type": "stream",
     "text": [
      "-0.49116772735302106\n",
      "-0.29595885884824796\n",
      "-0.1065943545414793\n",
      "-0.28464920908777636\n",
      "ig:: 0.6155772764200632\n",
      "-0.4836749843245433\n",
      "-0.5131166476570933\n",
      "parent entropy 0.9967916319816366\n",
      "0.38121435556157335\n"
     ]
    }
   ],
   "source": [
    "#print(log_entropy([[[1, 1], [1, 0]], [[1, 1], [1, 0]]], [0, 1]))\n",
    "print(log_entropy([[[1, 0], [1, 0],[1, 0], [1, 0],[1, 1], [1, 1],[1, 1], [1, 1],[1, 1], [1, 1],[1, 1],\n",
    "                   [1, 1],[1, 1], [1, 1],[1, 1], [1, 1],[1,1]], [[1, 1], [1, 0],[1, 0], [1, 0],[1, 0], [1, 0],[1, 0], \n",
    "                                                                 [1, 0],[1, 0], [1, 0],[1, 0], [1, 0],[1, 0]\n",
    "                                                                ]], [0, 1]))"
   ]
  },
  {
   "cell_type": "code",
   "execution_count": 83,
   "metadata": {
    "collapsed": true
   },
   "outputs": [],
   "source": [
    "def test_split(index,value,dataset):\n",
    "    left, right = list(),list()\n",
    "    for row in dataset:\n",
    "        if row[index] < value:\n",
    "            left.append(row)\n",
    "        else:\n",
    "            right.append(row)\n",
    "    return left,right"
   ]
  },
  {
   "cell_type": "code",
   "execution_count": 84,
   "metadata": {
    "collapsed": false
   },
   "outputs": [],
   "source": [
    "def get_split(dataset):\n",
    "    class_values = list(set(row[-1] for row in dataset))\n",
    "    b_index,b_value,b_score,b_groups = 999,999,999,None\n",
    "    for index in range(len(dataset[0])-1):\n",
    "        for row in dataset:\n",
    "            groups = test_split(index,row[index],dataset)\n",
    "            #gini = gini_index(groups,class_values)\n",
    "            gini = log_entropy(groups,class_values)\n",
    "            if gini < b_score:\n",
    "                b_index,b_value,b_score,b_groups = index,row[index],gini,groups\n",
    "    return {'index' : b_index,'value' : b_value,'groups' : b_groups}"
   ]
  },
  {
   "cell_type": "code",
   "execution_count": 85,
   "metadata": {
    "collapsed": false
   },
   "outputs": [
    {
     "name": "stdout",
     "output_type": "stream",
     "text": [
      "0.0\n",
      "-0.5199666673076944\n",
      "-0.4711093925305278\n",
      "ig:: 0.8919684538544\n",
      "-0.5\n",
      "-0.5\n",
      "parent entropy 1.0\n",
      "-0.5\n",
      "-0.5\n",
      "ig:: 1.0\n",
      "-0.5\n",
      "-0.5\n",
      "parent entropy 1.0\n",
      "0.0\n",
      "-0.5163871205878868\n",
      "-0.3467334479787441\n",
      "ig:: 0.6041843979966417\n",
      "-0.5\n",
      "-0.5\n",
      "parent entropy 1.0\n",
      "0.0\n",
      "-0.430827083453526\n",
      "-0.21919533819482817\n",
      "ig:: 0.39001345298901247\n",
      "-0.5\n",
      "-0.5\n",
      "parent entropy 1.0\n",
      "0.0\n",
      "-0.5306390622295664\n",
      "-0.4237949406953986\n",
      "ig:: 0.763547202339972\n",
      "-0.5\n",
      "-0.5\n",
      "parent entropy 1.0\n",
      "-0.3467334479787441\n",
      "-0.5163871205878868\n",
      "0.0\n",
      "ig:: 0.6041843979966417\n",
      "-0.5\n",
      "-0.5\n",
      "parent entropy 1.0\n",
      "-0.4237949406953986\n",
      "-0.5306390622295664\n",
      "0.0\n",
      "ig:: 0.763547202339972\n",
      "-0.5\n",
      "-0.5\n",
      "parent entropy 1.0\n",
      "-0.21919533819482817\n",
      "-0.430827083453526\n",
      "0.0\n",
      "ig:: 0.39001345298901247\n",
      "-0.5\n",
      "-0.5\n",
      "parent entropy 1.0\n",
      "-0.4711093925305278\n",
      "-0.5199666673076944\n",
      "0.0\n",
      "ig:: 0.8919684538544\n",
      "-0.5\n",
      "-0.5\n",
      "parent entropy 1.0\n",
      "0.0\n",
      "0.0\n",
      "ig:: 0.0\n",
      "-0.5\n",
      "-0.5\n",
      "parent entropy 1.0\n",
      "-0.5\n",
      "-0.5\n",
      "-0.5\n",
      "-0.5\n",
      "ig:: 1.0\n",
      "-0.5\n",
      "-0.5\n",
      "parent entropy 1.0\n",
      "0.0\n",
      "-0.4711093925305278\n",
      "-0.5199666673076944\n",
      "ig:: 0.8919684538544\n",
      "-0.5\n",
      "-0.5\n",
      "parent entropy 1.0\n",
      "-0.2575424759098898\n",
      "-0.46438561897747244\n",
      "-0.46438561897747244\n",
      "-0.2575424759098898\n",
      "ig:: 0.7219280948873623\n",
      "-0.5\n",
      "-0.5\n",
      "parent entropy 1.0\n",
      "-0.31127812445913283\n",
      "-0.5\n",
      "-0.5283208335737187\n",
      "-0.38997500048077083\n",
      "ig:: 0.8754887502163469\n",
      "-0.5\n",
      "-0.5\n",
      "parent entropy 1.0\n",
      "-0.38997500048077083\n",
      "-0.5283208335737187\n",
      "-0.5238824662870492\n",
      "-0.4613456697472024\n",
      "ig:: 0.965148445440323\n",
      "-0.5\n",
      "-0.5\n",
      "parent entropy 1.0\n",
      "-0.21919533819482817\n",
      "-0.430827083453526\n",
      "0.0\n",
      "ig:: 0.39001345298901247\n",
      "-0.5\n",
      "-0.5\n",
      "parent entropy 1.0\n",
      "-0.4711093925305278\n",
      "-0.5199666673076944\n",
      "0.0\n",
      "ig:: 0.8919684538544\n",
      "-0.5\n",
      "-0.5\n",
      "parent entropy 1.0\n",
      "-0.5\n",
      "-0.5\n",
      "ig:: 1.0\n",
      "-0.5\n",
      "-0.5\n",
      "parent entropy 1.0\n",
      "-0.3467334479787441\n",
      "-0.5163871205878868\n",
      "0.0\n",
      "ig:: 0.6041843979966417\n",
      "-0.5\n",
      "-0.5\n",
      "parent entropy 1.0\n",
      "-0.4237949406953986\n",
      "-0.5306390622295664\n",
      "0.0\n",
      "ig:: 0.763547202339972\n",
      "-0.5\n",
      "-0.5\n",
      "parent entropy 1.0\n",
      "Split: [X1 < 1.729]\n"
     ]
    }
   ],
   "source": [
    "dataset = [[2.771244718,1.784783929,0],\n",
    "\t[1.728571309,1.169761413,0],\n",
    "\t[3.678319846,2.81281357,0],\n",
    "\t[3.961043357,2.61995032,0],\n",
    "\t[2.999208922,2.209014212,0],\n",
    "\t[7.497545867,3.162953546,1],\n",
    "\t[9.00220326,3.339047188,1],\n",
    "\t[7.444542326,0.476683375,1],\n",
    "\t[10.12493903,3.234550982,1],\n",
    "\t[6.642287351,3.319983761,1]]\n",
    "split = get_split(dataset)\n",
    "print('Split: [X%d < %.3f]' % ((split['index']+1), split['value']))"
   ]
  },
  {
   "cell_type": "code",
   "execution_count": 86,
   "metadata": {
    "collapsed": true
   },
   "outputs": [],
   "source": [
    "def to_terminal(group):\n",
    "    outcomes = [row[-1] for row in group]\n",
    "    return max(set(outcomes),key = outcomes.count)"
   ]
  },
  {
   "cell_type": "code",
   "execution_count": 87,
   "metadata": {
    "collapsed": false
   },
   "outputs": [],
   "source": [
    "def split(node,max_depth,min_size,depth):\n",
    "    left,right = node['groups']\n",
    "    del(node['groups'])\n",
    "    \n",
    "    if not left or not right:\n",
    "        node['left'] = node['right'] = to_terminal(left + right)\n",
    "        return\n",
    "    if depth >= max_depth:\n",
    "        node['left'],node['right'] = to_terminal(left),to_terminal(right)\n",
    "        return\n",
    "    if len(left) <= min_size:\n",
    "        node['left'] = to_terminal(left)\n",
    "    else:\n",
    "        node['left'] = get_split(left)\n",
    "        split(node['left'],max_depth,min_size,depth + 1)\n",
    "    if len(right) <= min_size:\n",
    "        node['right'] = to_terminal(right)\n",
    "    else:\n",
    "        node['right'] = get_split(right)\n",
    "        split(node['right'],max_depth,min_size,depth + 1)"
   ]
  },
  {
   "cell_type": "code",
   "execution_count": 88,
   "metadata": {
    "collapsed": true
   },
   "outputs": [],
   "source": [
    "def build_tree(train,max_depth,min_size):\n",
    "    root = get_split(train)\n",
    "    split(root,max_depth,min_size,1)\n",
    "    return root"
   ]
  },
  {
   "cell_type": "code",
   "execution_count": 89,
   "metadata": {
    "collapsed": false
   },
   "outputs": [
    {
     "name": "stdout",
     "output_type": "stream",
     "text": [
      "0.0\n",
      "-0.5199666673076944\n",
      "-0.4711093925305278\n",
      "ig:: 0.8919684538544\n",
      "-0.5\n",
      "-0.5\n",
      "parent entropy 1.0\n",
      "-0.5\n",
      "-0.5\n",
      "ig:: 1.0\n",
      "-0.5\n",
      "-0.5\n",
      "parent entropy 1.0\n",
      "0.0\n",
      "-0.5163871205878868\n",
      "-0.3467334479787441\n",
      "ig:: 0.6041843979966417\n",
      "-0.5\n",
      "-0.5\n",
      "parent entropy 1.0\n",
      "0.0\n",
      "-0.430827083453526\n",
      "-0.21919533819482817\n",
      "ig:: 0.39001345298901247\n",
      "-0.5\n",
      "-0.5\n",
      "parent entropy 1.0\n",
      "0.0\n",
      "-0.5306390622295664\n",
      "-0.4237949406953986\n",
      "ig:: 0.763547202339972\n",
      "-0.5\n",
      "-0.5\n",
      "parent entropy 1.0\n",
      "-0.3467334479787441\n",
      "-0.5163871205878868\n",
      "0.0\n",
      "ig:: 0.6041843979966417\n",
      "-0.5\n",
      "-0.5\n",
      "parent entropy 1.0\n",
      "-0.4237949406953986\n",
      "-0.5306390622295664\n",
      "0.0\n",
      "ig:: 0.763547202339972\n",
      "-0.5\n",
      "-0.5\n",
      "parent entropy 1.0\n",
      "-0.21919533819482817\n",
      "-0.430827083453526\n",
      "0.0\n",
      "ig:: 0.39001345298901247\n",
      "-0.5\n",
      "-0.5\n",
      "parent entropy 1.0\n",
      "-0.4711093925305278\n",
      "-0.5199666673076944\n",
      "0.0\n",
      "ig:: 0.8919684538544\n",
      "-0.5\n",
      "-0.5\n",
      "parent entropy 1.0\n",
      "0.0\n",
      "0.0\n",
      "ig:: 0.0\n",
      "-0.5\n",
      "-0.5\n",
      "parent entropy 1.0\n",
      "-0.5\n",
      "-0.5\n",
      "-0.5\n",
      "-0.5\n",
      "ig:: 1.0\n",
      "-0.5\n",
      "-0.5\n",
      "parent entropy 1.0\n",
      "0.0\n",
      "-0.4711093925305278\n",
      "-0.5199666673076944\n",
      "ig:: 0.8919684538544\n",
      "-0.5\n",
      "-0.5\n",
      "parent entropy 1.0\n",
      "-0.2575424759098898\n",
      "-0.46438561897747244\n",
      "-0.46438561897747244\n",
      "-0.2575424759098898\n",
      "ig:: 0.7219280948873623\n",
      "-0.5\n",
      "-0.5\n",
      "parent entropy 1.0\n",
      "-0.31127812445913283\n",
      "-0.5\n",
      "-0.5283208335737187\n",
      "-0.38997500048077083\n",
      "ig:: 0.8754887502163469\n",
      "-0.5\n",
      "-0.5\n",
      "parent entropy 1.0\n",
      "-0.38997500048077083\n",
      "-0.5283208335737187\n",
      "-0.5238824662870492\n",
      "-0.4613456697472024\n",
      "ig:: 0.965148445440323\n",
      "-0.5\n",
      "-0.5\n",
      "parent entropy 1.0\n",
      "-0.21919533819482817\n",
      "-0.430827083453526\n",
      "0.0\n",
      "ig:: 0.39001345298901247\n",
      "-0.5\n",
      "-0.5\n",
      "parent entropy 1.0\n",
      "-0.4711093925305278\n",
      "-0.5199666673076944\n",
      "0.0\n",
      "ig:: 0.8919684538544\n",
      "-0.5\n",
      "-0.5\n",
      "parent entropy 1.0\n",
      "-0.5\n",
      "-0.5\n",
      "ig:: 1.0\n",
      "-0.5\n",
      "-0.5\n",
      "parent entropy 1.0\n",
      "-0.3467334479787441\n",
      "-0.5163871205878868\n",
      "0.0\n",
      "ig:: 0.6041843979966417\n",
      "-0.5\n",
      "-0.5\n",
      "parent entropy 1.0\n",
      "-0.4237949406953986\n",
      "-0.5306390622295664\n",
      "0.0\n",
      "ig:: 0.763547202339972\n",
      "-0.5\n",
      "-0.5\n",
      "parent entropy 1.0\n",
      "[X1 < 1.729]\n",
      " [0]\n",
      " [0]\n"
     ]
    }
   ],
   "source": [
    "def print_tree(node, depth=0):\n",
    "    if isinstance(node, dict):\n",
    "        print('%s[X%d < %.3f]' % ((depth*' ', (node['index']+1), node['value'])))\n",
    "        print_tree(node['left'], depth+1)\n",
    "        print_tree(node['right'], depth+1)\n",
    "    else:\n",
    "        print('%s[%s]' % ((depth*' ', node)))\n",
    " \n",
    "dataset = [[2.771244718,1.784783929,0],\n",
    "    [1.728571309,1.169761413,0],\n",
    "    [3.678319846,2.81281357,0],\n",
    "    [3.961043357,2.61995032,0],\n",
    "    [2.999208922,2.209014212,0],\n",
    "    [7.497545867,3.162953546,1],\n",
    "    [9.00220326,3.339047188,1],\n",
    "    [7.444542326,0.476683375,1],\n",
    "    [10.12493903,3.234550982,1],\n",
    "    [6.642287351,3.319983761,1]]\n",
    "tree = build_tree(dataset, 3, 1)\n",
    "print_tree(tree)"
   ]
  },
  {
   "cell_type": "code",
   "execution_count": 90,
   "metadata": {
    "collapsed": true
   },
   "outputs": [],
   "source": [
    "def predict(node,row):\n",
    "    if row[node['index']] < node['value']:\n",
    "        if isinstance(node['left'],dict):\n",
    "            return predict(node['left'],row)\n",
    "        else:\n",
    "            return node['left']\n",
    "    else:\n",
    "        if isinstance(node['right'],dict):\n",
    "            return predict(node['right'],row)\n",
    "        else:\n",
    "            return node['right']"
   ]
  },
  {
   "cell_type": "code",
   "execution_count": 91,
   "metadata": {
    "collapsed": true
   },
   "outputs": [],
   "source": [
    "from random import seed\n",
    "from random import randrange\n",
    "from csv import reader"
   ]
  },
  {
   "cell_type": "code",
   "execution_count": 92,
   "metadata": {
    "collapsed": true
   },
   "outputs": [],
   "source": [
    "def load_csv(filename):\n",
    "    file = open(filename)\n",
    "    lines = reader(file)\n",
    "    dataset = list(lines)\n",
    "    return dataset"
   ]
  },
  {
   "cell_type": "code",
   "execution_count": 93,
   "metadata": {
    "collapsed": true
   },
   "outputs": [],
   "source": [
    "def str_column_to_float(dataset,column):\n",
    "    for row in dataset:\n",
    "        row[column] = float(row[column].strip())"
   ]
  },
  {
   "cell_type": "code",
   "execution_count": 94,
   "metadata": {
    "collapsed": true
   },
   "outputs": [],
   "source": [
    "def cross_validation_split(dataset,n_folds):\n",
    "    dataset_split = list()\n",
    "    dataset_copy = list(dataset)\n",
    "    fold_size = int(len(dataset) / n_folds)\n",
    "    for i  in range(n_folds):\n",
    "        fold = list()\n",
    "        while len(fold) < fold_size:\n",
    "            index = randrange(len(dataset_copy))\n",
    "            fold.append(dataset_copy.pop(index))\n",
    "        dataset_split.append(fold)\n",
    "    return dataset_split        "
   ]
  },
  {
   "cell_type": "code",
   "execution_count": 95,
   "metadata": {
    "collapsed": true
   },
   "outputs": [],
   "source": [
    "def accuracy_metric(actual,predicted):\n",
    "    correct = 0\n",
    "    for i in range(len(actual)):\n",
    "        if actual[i] == predicted[i]:\n",
    "            correct += 1\n",
    "    return correct / float(len(actual)) * 100.00"
   ]
  },
  {
   "cell_type": "code",
   "execution_count": 96,
   "metadata": {
    "collapsed": true
   },
   "outputs": [],
   "source": [
    "def evaulate_algoritham(dataset,algoritham,n_folds,*args):\n",
    "    folds = cross_validation_split(dataset,n_folds)\n",
    "    scores = list()\n",
    "    for fold in folds:\n",
    "        train_set = list(folds)\n",
    "        train_set.remove(fold)\n",
    "        train_set = sum(train_set,[])\n",
    "        test_set = list()\n",
    "        for row in fold:\n",
    "            row_copy = list(row)\n",
    "            test_set.append(row_copy)\n",
    "            row_copy[-1] = None\n",
    "        predicted = algoritham(train_set,test_set,*args)\n",
    "        actual = [row[-1] for row in fold]\n",
    "        accuracy = accuracy_metric(actual,predicted)\n",
    "        scores.append(accuracy)\n",
    "    return scores"
   ]
  },
  {
   "cell_type": "code",
   "execution_count": 97,
   "metadata": {
    "collapsed": true
   },
   "outputs": [],
   "source": [
    "def decision_tree(train,test,max_depth,min_size):\n",
    "    tree = build_tree(train,max_depth,min_size)\n",
    "    predictions = list()\n",
    "    for row in test:\n",
    "        prediction = predict(tree,row)\n",
    "        predictions.append(prediction)\n",
    "    return predictions"
   ]
  },
  {
   "cell_type": "code",
   "execution_count": 100,
   "metadata": {
    "collapsed": false
   },
   "outputs": [
    {
     "name": "stdout",
     "output_type": "stream",
     "text": [
      "Scores: [52.18978102189781, 55.1094890510949, 55.1094890510949, 57.299270072992705, 58.02919708029197]\n",
      "Mean Accuracy: 55.547%\n"
     ]
    }
   ],
   "source": [
    "seed(1)\n",
    "filename = 'C:\\\\Users\\\\rakesh\\\\Desktop\\\\ML\\\\decisiontrees\\\\data_banknote_authentication.csv'\n",
    "dataset = load_csv(filename)\n",
    "for i in range(len(dataset[0])):\n",
    "    str_column_to_float(dataset,i)\n",
    "n_folds = 5\n",
    "max_depth = 5\n",
    "min_size = 10\n",
    "scores = evaulate_algoritham(dataset,decision_tree,n_folds,max_depth,min_size)\n",
    "print('Scores: %s' % scores)\n",
    "print('Mean Accuracy: %.3f%%' % (sum(scores)/float(len(scores))))"
   ]
  },
  {
   "cell_type": "code",
   "execution_count": null,
   "metadata": {
    "collapsed": true
   },
   "outputs": [],
   "source": []
  }
 ],
 "metadata": {
  "anaconda-cloud": {},
  "kernelspec": {
   "display_name": "Python [conda root]",
   "language": "python",
   "name": "conda-root-py"
  },
  "language_info": {
   "codemirror_mode": {
    "name": "ipython",
    "version": 3
   },
   "file_extension": ".py",
   "mimetype": "text/x-python",
   "name": "python",
   "nbconvert_exporter": "python",
   "pygments_lexer": "ipython3",
   "version": "3.5.2"
  }
 },
 "nbformat": 4,
 "nbformat_minor": 1
}
