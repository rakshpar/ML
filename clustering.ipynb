{
 "cells": [
  {
   "cell_type": "code",
   "execution_count": 18,
   "metadata": {
    "collapsed": true
   },
   "outputs": [],
   "source": [
    "import numpy as np"
   ]
  },
  {
   "cell_type": "code",
   "execution_count": 19,
   "metadata": {
    "collapsed": false
   },
   "outputs": [],
   "source": [
    "import pandas as pd\n",
    "df=pd.read_csv('C:/Users/rakesh/Desktop/ML/clustering/clusterdata.csv', sep=',',header=None)"
   ]
  },
  {
   "cell_type": "code",
   "execution_count": 20,
   "metadata": {
    "collapsed": false
   },
   "outputs": [
    {
     "data": {
      "text/plain": [
       "array([[ 1.84207953,  4.6075716 ],\n",
       "       [ 5.65858312,  4.79996405],\n",
       "       [ 6.35257892,  3.2908545 ],\n",
       "       [ 2.90401653,  4.61220411],\n",
       "       [ 3.23197916,  4.93989405],\n",
       "       [ 1.24792268,  4.93267846],\n",
       "       [ 1.97619886,  4.43489674],\n",
       "       [ 2.23454135,  5.05547168],\n",
       "       [ 2.98340757,  4.84046406],\n",
       "       [ 2.97970391,  4.80671081],\n",
       "       [ 2.11496411,  5.37373587],\n",
       "       [ 2.12169543,  5.20854212],\n",
       "       [ 1.5143529 ,  4.77003303],\n",
       "       [ 2.16979227,  5.27435354],\n",
       "       [ 0.41852373,  4.88312522],\n",
       "       [ 2.47053695,  4.80418944],\n",
       "       [ 4.06069132,  4.99503862],\n",
       "       [ 3.00708934,  4.67897758],\n",
       "       [ 0.66632346,  4.87187949],\n",
       "       [ 3.1621865 ,  4.83658301],\n",
       "       [ 0.51155258,  4.91052923],\n",
       "       [ 3.1342801 ,  4.96178114],\n",
       "       [ 2.04974595,  5.6241395 ],\n",
       "       [ 0.66582785,  5.24399257],\n",
       "       [ 1.01732013,  4.84473647],\n",
       "       [ 2.17893568,  5.29758701],\n",
       "       [ 2.85962615,  5.26041997],\n",
       "       [ 1.30882588,  5.30158701],\n",
       "       [ 0.99253246,  5.01567424],\n",
       "       [ 1.40372638,  4.57527684],\n",
       "       [ 2.66046572,  5.19623848],\n",
       "       [ 2.79995882,  5.11526323],\n",
       "       [ 2.06995345,  4.6846713 ],\n",
       "       [ 3.29765181,  5.59205535],\n",
       "       [ 1.8929766 ,  4.89043209],\n",
       "       [ 2.55983064,  5.26397756],\n",
       "       [ 1.15354031,  4.67866717],\n",
       "       [ 2.25150754,  5.4450031 ],\n",
       "       [ 2.20960296,  4.91469264],\n",
       "       [ 1.59141937,  4.83212573],\n",
       "       [ 1.67838038,  5.26903822],\n",
       "       [ 2.59148642,  4.92593394],\n",
       "       [ 2.80996442,  5.53849899],\n",
       "       [ 0.95311627,  5.58037108],\n",
       "       [ 1.51775276,  5.03836638],\n",
       "       [ 3.23114248,  5.78429665],\n",
       "       [ 2.54180011,  4.81098738],\n",
       "       [ 3.81422865,  4.73526796],\n",
       "       [ 1.68495829,  4.59643553],\n",
       "       [ 2.17777173,  4.86154019],\n",
       "       [ 1.8173328 ,  5.13333907],\n",
       "       [ 1.85776553,  4.86962414],\n",
       "       [ 3.03084301,  5.24057582],\n",
       "       [ 2.92658295,  5.09667923],\n",
       "       [ 3.43493543,  5.34080741],\n",
       "       [ 3.20367116,  4.85924759],\n",
       "       [ 0.10511804,  4.72916344],\n",
       "       [ 1.40597916,  5.06636822],\n",
       "       [ 2.24185052,  4.9244617 ],\n",
       "       [ 1.36678395,  5.26161095],\n",
       "       [ 1.70725482,  4.04231479],\n",
       "       [ 1.91909566,  5.57848447],\n",
       "       [ 1.60156731,  4.64453012],\n",
       "       [ 0.37963437,  5.26194729],\n",
       "       [ 2.02134502,  4.41267445],\n",
       "       [ 1.12036737,  5.20880747],\n",
       "       [ 2.26901428,  4.61818883],\n",
       "       [-0.24512713,  5.74019237],\n",
       "       [ 2.12857843,  5.01149793],\n",
       "       [ 1.84419981,  5.03153948],\n",
       "       [ 2.32558253,  4.74867962],\n",
       "       [ 1.52334113,  4.87916159],\n",
       "       [ 1.02285128,  5.0105065 ],\n",
       "       [ 1.85382737,  5.00752482],\n",
       "       [ 2.20321658,  4.94516379],\n",
       "       [ 1.20099981,  4.57829763],\n",
       "       [ 1.02062703,  4.62991119],\n",
       "       [ 1.60493227,  5.13663139],\n",
       "       [ 0.47647355,  5.13535977],\n",
       "       [ 0.3639172 ,  4.73332823],\n",
       "       [ 0.31319845,  5.54694644],\n",
       "       [ 2.28664839,  5.0076699 ],\n",
       "       [ 2.15460139,  5.46282959],\n",
       "       [ 2.05288518,  4.77958559],\n",
       "       [ 4.88804332,  5.50670795],\n",
       "       [ 2.40304747,  5.08147326],\n",
       "       [ 2.56869453,  5.20687886],\n",
       "       [ 1.82975993,  4.59657288],\n",
       "       [ 0.54845223,  5.0267298 ],\n",
       "       [ 3.17109619,  5.5946452 ],\n",
       "       [ 3.04202069,  5.00758373],\n",
       "       [ 2.40427775,  5.0258707 ],\n",
       "       [ 0.17783466,  5.29765032],\n",
       "       [ 2.61428678,  5.22287414],\n",
       "       [ 2.30097798,  4.97235844],\n",
       "       [ 3.90779317,  5.09464676],\n",
       "       [ 2.05670542,  5.23391326],\n",
       "       [ 1.38133497,  5.00194962],\n",
       "       [ 1.16074178,  4.67727927],\n",
       "       [ 1.72818199,  5.36028437],\n",
       "       [ 3.20360621,  0.7222149 ],\n",
       "       [ 3.06192918,  1.5719211 ],\n",
       "       [ 4.01714917,  1.16070647],\n",
       "       [ 1.40260822,  1.08726536],\n",
       "       [ 4.08164951,  0.87200343],\n",
       "       [ 3.15273081,  0.98155871],\n",
       "       [ 3.45186351,  0.42784083],\n",
       "       [ 3.85384314,  0.7920479 ],\n",
       "       [ 1.57449255,  1.34811126],\n",
       "       [ 4.72372078,  0.62044136],\n",
       "       [ 2.87961084,  0.75413741],\n",
       "       [ 0.96791348,  1.16166819],\n",
       "       [ 1.53178107,  1.10054852],\n",
       "       [ 4.13835915,  1.24780979],\n",
       "       [ 3.16109021,  1.29422893],\n",
       "       [ 2.95177039,  0.89583143],\n",
       "       [ 3.27844295,  1.75043926],\n",
       "       [ 2.1270185 ,  0.95672042],\n",
       "       [ 3.32648885,  1.28019066],\n",
       "       [ 2.54371489,  0.95732716],\n",
       "       [ 3.233947  ,  1.08202324],\n",
       "       [ 4.43152976,  0.54041   ],\n",
       "       [ 3.56478625,  1.11764714],\n",
       "       [ 4.25588482,  0.90643957],\n",
       "       [ 4.05386581,  0.53291862],\n",
       "       [ 3.08970176,  1.08814448],\n",
       "       [ 2.84734459,  0.26759253],\n",
       "       [ 3.63586049,  1.12160194],\n",
       "       [ 1.95538864,  1.32156857],\n",
       "       [ 2.88384005,  0.80454506],\n",
       "       [ 3.48444387,  1.13551448],\n",
       "       [ 3.49798412,  1.10046402],\n",
       "       [ 2.45575934,  0.78904654],\n",
       "       [ 3.2038001 ,  1.02728075],\n",
       "       [ 3.00677254,  0.62519128],\n",
       "       [ 1.96547974,  1.2173076 ],\n",
       "       [ 2.17989333,  1.30879831],\n",
       "       [ 2.61207029,  0.99076856],\n",
       "       [ 3.95549912,  0.83269299],\n",
       "       [ 3.64846482,  1.62849697],\n",
       "       [ 4.18450011,  0.45356203],\n",
       "       [ 3.7875723 ,  1.45442904],\n",
       "       [ 3.30063655,  1.28107588],\n",
       "       [ 3.02836363,  1.35635189],\n",
       "       [ 3.18412176,  1.41410799],\n",
       "       [ 4.16911897,  0.20581038],\n",
       "       [ 3.24024211,  1.14876237],\n",
       "       [ 3.91596068,  1.01225774],\n",
       "       [ 2.96979716,  1.01210306],\n",
       "       [ 1.12993856,  0.77085284],\n",
       "       [ 2.71730799,  0.48697555],\n",
       "       [ 3.1189017 ,  0.69438336],\n",
       "       [ 2.4051802 ,  1.11778123],\n",
       "       [ 2.95818429,  1.01887096],\n",
       "       [ 1.65456309,  1.18631175],\n",
       "       [ 2.39775807,  1.24721387],\n",
       "       [ 2.28409305,  0.64865469],\n",
       "       [ 2.79588724,  0.99526664],\n",
       "       [ 3.41156277,  1.1596363 ],\n",
       "       [ 3.50663521,  0.73878104],\n",
       "       [ 3.93616029,  1.46202934],\n",
       "       [ 3.90206657,  1.27778751],\n",
       "       [ 2.61036396,  0.88027602],\n",
       "       [ 4.37271861,  1.02914092],\n",
       "       [ 3.08349136,  1.19632644],\n",
       "       [ 2.1159935 ,  0.7930365 ],\n",
       "       [ 2.15653404,  0.40358861],\n",
       "       [ 2.14491101,  1.13582399],\n",
       "       [ 1.84935524,  1.02232644],\n",
       "       [ 4.1590816 ,  0.61720733],\n",
       "       [ 2.76494499,  1.43148951],\n",
       "       [ 3.90561153,  1.16575315],\n",
       "       [ 2.54071672,  0.98392516],\n",
       "       [ 4.27783068,  1.1801368 ],\n",
       "       [ 3.31058167,  1.03124461],\n",
       "       [ 2.15520661,  0.80696562],\n",
       "       [ 3.71363659,  0.45813208],\n",
       "       [ 3.54010186,  0.86446135],\n",
       "       [ 1.60519991,  1.1098053 ],\n",
       "       [ 1.75164337,  0.68853536],\n",
       "       [ 3.12405123,  0.67821757],\n",
       "       [ 2.37198785,  1.42789607],\n",
       "       [ 2.53446019,  1.21562081],\n",
       "       [ 3.6834465 ,  1.22834538],\n",
       "       [ 3.2670134 ,  0.32056676],\n",
       "       [ 3.94159139,  0.82577438],\n",
       "       [ 3.2645514 ,  1.3836869 ],\n",
       "       [ 4.30471138,  1.10725995],\n",
       "       [ 2.68499376,  0.35344943],\n",
       "       [ 3.12635184,  1.2806893 ],\n",
       "       [ 2.94294356,  1.02825076],\n",
       "       [ 3.11876541,  1.33285459],\n",
       "       [ 2.02358978,  0.44771614],\n",
       "       [ 3.62202931,  1.28643763],\n",
       "       [ 2.42865879,  0.86499285],\n",
       "       [ 2.09517296,  1.14010491],\n",
       "       [ 5.29239452,  0.36873298],\n",
       "       [ 2.07291709,  1.16763851],\n",
       "       [ 0.94623208,  0.24522253],\n",
       "       [ 2.73911908,  1.10072284],\n",
       "       [ 6.00506534,  2.72784171],\n",
       "       [ 6.05696411,  2.94970433],\n",
       "       [ 6.77012767,  3.21411422],\n",
       "       [ 5.64034678,  2.69385282],\n",
       "       [ 5.63325403,  2.99002339],\n",
       "       [ 6.17443157,  3.29026488],\n",
       "       [ 7.24694794,  2.96877424],\n",
       "       [ 5.58162906,  3.33510375],\n",
       "       [ 5.3627205 ,  3.14681192],\n",
       "       [ 4.70775773,  2.78710869],\n",
       "       [ 7.42892098,  3.4667949 ],\n",
       "       [ 6.64107248,  3.05998738],\n",
       "       [ 6.37473652,  2.56253059],\n",
       "       [ 7.28780324,  2.75179885],\n",
       "       [ 6.20295231,  2.67856179],\n",
       "       [ 5.38736041,  2.26737346],\n",
       "       [ 5.6673103 ,  2.96477867],\n",
       "       [ 6.59702155,  3.07082376],\n",
       "       [ 7.75660559,  3.15604465],\n",
       "       [ 6.63262745,  3.14799183],\n",
       "       [ 5.76634959,  3.14271707],\n",
       "       [ 5.99423154,  2.75707858],\n",
       "       [ 6.37870407,  2.65022321],\n",
       "       [ 5.74036233,  3.10391306],\n",
       "       [ 4.61652442,  2.79320715],\n",
       "       [ 5.33533999,  3.03928694],\n",
       "       [ 5.37293912,  2.81684776],\n",
       "       [ 5.03611162,  2.92486087],\n",
       "       [ 5.52908677,  3.33681576],\n",
       "       [ 6.05086942,  2.80702594],\n",
       "       [ 5.132009  ,  2.19812195],\n",
       "       [ 5.73284945,  2.87738132],\n",
       "       [ 6.78110732,  3.05676866],\n",
       "       [ 6.44834449,  3.35299225],\n",
       "       [ 6.39941482,  2.89756948],\n",
       "       [ 5.86067925,  2.99577129],\n",
       "       [ 6.44765183,  3.16560945],\n",
       "       [ 5.36708111,  3.19502552],\n",
       "       [ 5.88735565,  3.34615566],\n",
       "       [ 3.96162465,  2.72025046],\n",
       "       [ 6.28438193,  3.17360643],\n",
       "       [ 4.20584789,  2.81647368],\n",
       "       [ 5.32615581,  3.03314047],\n",
       "       [ 7.17135204,  3.4122727 ],\n",
       "       [ 7.4949275 ,  2.84018754],\n",
       "       [ 7.39807241,  3.48487031],\n",
       "       [ 5.02432984,  2.98683179],\n",
       "       [ 5.31712478,  2.81741356],\n",
       "       [ 5.87655237,  3.21661109],\n",
       "       [ 6.03762833,  2.68303512],\n",
       "       [ 5.91280273,  2.85631938],\n",
       "       [ 6.69451358,  2.89056083],\n",
       "       [ 6.01017978,  2.72401338],\n",
       "       [ 6.92721968,  3.19960026],\n",
       "       [ 6.33559522,  3.30864291],\n",
       "       [ 6.24257071,  2.79179269],\n",
       "       [ 5.57812294,  3.24766016],\n",
       "       [ 6.40773863,  2.67554951],\n",
       "       [ 6.80029526,  3.17579578],\n",
       "       [ 7.21684033,  2.72896575],\n",
       "       [ 6.5110074 ,  2.72731907],\n",
       "       [ 4.60630534,  3.329458  ],\n",
       "       [ 7.65503226,  2.87095628],\n",
       "       [ 5.50295759,  2.62924634],\n",
       "       [ 6.63060699,  3.01502301],\n",
       "       [ 3.45928006,  2.68478445],\n",
       "       [ 8.20339815,  2.41693495],\n",
       "       [ 4.95679428,  2.89776297],\n",
       "       [ 5.37052667,  2.44954813],\n",
       "       [ 5.69797866,  2.94977132],\n",
       "       [ 6.27376271,  2.24256036],\n",
       "       [ 5.05274526,  2.75692163],\n",
       "       [ 6.88575584,  2.88845269],\n",
       "       [ 4.1877442 ,  2.89283463],\n",
       "       [ 5.97510328,  3.0259191 ],\n",
       "       [ 6.09457129,  2.61867975],\n",
       "       [ 5.72395697,  3.04454219],\n",
       "       [ 4.37249767,  3.05488217],\n",
       "       [ 6.29206262,  2.77573856],\n",
       "       [ 5.14533035,  4.13225692],\n",
       "       [ 6.5870565 ,  3.37508345],\n",
       "       [ 5.78769095,  3.29255127],\n",
       "       [ 6.72798098,  3.0043983 ],\n",
       "       [ 6.64078939,  2.41068839],\n",
       "       [ 6.23228878,  2.72850902],\n",
       "       [ 6.21772724,  2.80994633],\n",
       "       [ 5.78116301,  3.07987787],\n",
       "       [ 6.62447253,  2.74453743],\n",
       "       [ 5.19590823,  3.06972937],\n",
       "       [ 5.87177181,  3.2551773 ],\n",
       "       [ 5.89562099,  2.89843977],\n",
       "       [ 5.6175432 ,  2.5975071 ],\n",
       "       [ 5.63176103,  3.04758747],\n",
       "       [ 5.50258659,  3.11869075],\n",
       "       [ 6.48212628,  2.5508514 ],\n",
       "       [ 7.30278708,  3.38015979],\n",
       "       [ 6.99198434,  2.98706729],\n",
       "       [ 4.8255341 ,  2.77961664],\n",
       "       [ 6.11768055,  2.85475655],\n",
       "       [ 0.94048944,  5.71556802]])"
      ]
     },
     "execution_count": 20,
     "metadata": {},
     "output_type": "execute_result"
    }
   ],
   "source": [
    "df.values"
   ]
  },
  {
   "cell_type": "code",
   "execution_count": 21,
   "metadata": {
    "collapsed": false
   },
   "outputs": [
    {
     "data": {
      "text/plain": [
       "600"
      ]
     },
     "execution_count": 21,
     "metadata": {},
     "output_type": "execute_result"
    }
   ],
   "source": [
    "df.size"
   ]
  },
  {
   "cell_type": "code",
   "execution_count": 22,
   "metadata": {
    "collapsed": false
   },
   "outputs": [
    {
     "data": {
      "text/plain": [
       "(300, 2)"
      ]
     },
     "execution_count": 22,
     "metadata": {},
     "output_type": "execute_result"
    }
   ],
   "source": [
    "df.shape"
   ]
  },
  {
   "cell_type": "code",
   "execution_count": 23,
   "metadata": {
    "collapsed": true
   },
   "outputs": [],
   "source": [
    "K = 3"
   ]
  },
  {
   "cell_type": "code",
   "execution_count": 24,
   "metadata": {
    "collapsed": false
   },
   "outputs": [
    {
     "data": {
      "text/plain": [
       "3"
      ]
     },
     "execution_count": 24,
     "metadata": {},
     "output_type": "execute_result"
    }
   ],
   "source": [
    "K"
   ]
  },
  {
   "cell_type": "code",
   "execution_count": 25,
   "metadata": {
    "collapsed": false
   },
   "outputs": [],
   "source": [
    "initial_centroids = [[3, 3], [6, 2], [8, 5]]"
   ]
  },
  {
   "cell_type": "code",
   "execution_count": 26,
   "metadata": {
    "collapsed": false
   },
   "outputs": [
    {
     "data": {
      "text/plain": [
       "[[3, 3], [6, 2], [8, 5]]"
      ]
     },
     "execution_count": 26,
     "metadata": {},
     "output_type": "execute_result"
    }
   ],
   "source": [
    "initial_centroids"
   ]
  },
  {
   "cell_type": "code",
   "execution_count": 27,
   "metadata": {
    "collapsed": true
   },
   "outputs": [],
   "source": [
    "initial_centroids = np.array(initial_centroids)"
   ]
  },
  {
   "cell_type": "code",
   "execution_count": 28,
   "metadata": {
    "collapsed": false
   },
   "outputs": [
    {
     "data": {
      "text/plain": [
       "array([[3, 3],\n",
       "       [6, 2],\n",
       "       [8, 5]])"
      ]
     },
     "execution_count": 28,
     "metadata": {},
     "output_type": "execute_result"
    }
   ],
   "source": [
    "initial_centroids"
   ]
  },
  {
   "cell_type": "code",
   "execution_count": 29,
   "metadata": {
    "collapsed": false
   },
   "outputs": [
    {
     "data": {
      "text/plain": [
       "array([[3, 6, 8],\n",
       "       [3, 2, 5]])"
      ]
     },
     "execution_count": 29,
     "metadata": {},
     "output_type": "execute_result"
    }
   ],
   "source": [
    "initial_centroids.transpose()"
   ]
  },
  {
   "cell_type": "code",
   "execution_count": 30,
   "metadata": {
    "collapsed": false
   },
   "outputs": [],
   "source": [
    "cindex = np.zeros((300,1))\n",
    "def getClusters():\n",
    "    r = 0\n",
    "    c = 0\n",
    "    dist = np.matrix(np.zeros((300,3)))\n",
    "    for i in np.matrix(df.values):\n",
    "        z = i - initial_centroids\n",
    "        c = 0\n",
    "        for x in z:\n",
    "            dist[r,c] = np.sqrt(np.matrix(x).dot(np.matrix(x).transpose()))\n",
    "            c = c + 1\n",
    "        r = r + 1\n",
    "    cindex = dist.argmin(1)\n",
    "    return cindex"
   ]
  },
  {
   "cell_type": "code",
   "execution_count": 31,
   "metadata": {
    "collapsed": false
   },
   "outputs": [],
   "source": [
    "def getNewCentroids(cindex):\n",
    "    newCentroids = np.zeros((3,2))\n",
    "    zeroEntries = np.transpose(np.where(cindex == 0))\n",
    "    oneEntries = np.transpose(np.where(cindex == 1))\n",
    "    twoEntries = np.transpose(np.where(cindex == 2))\n",
    "    print(zeroEntries.shape + oneEntries.shape + twoEntries.shape)\n",
    "\n",
    "    sum = 0\n",
    "    for g in zeroEntries:\n",
    "        sum = sum + df.values[g[0]]\n",
    "    print(sum/(zeroEntries.shape[0]))\n",
    "    newCentroids[0] = sum/(zeroEntries.shape[0]);\n",
    "\n",
    "    sum = 0\n",
    "    for g in oneEntries:\n",
    "        sum = sum + df.values[g[0]]\n",
    "    print(sum/(oneEntries.shape[0]))\n",
    "    newCentroids[1] = sum/(oneEntries.shape[0]);\n",
    "\n",
    "    sum = 0\n",
    "    for g in twoEntries:\n",
    "        sum = sum + df.values[g[0]]\n",
    "    print(sum/(twoEntries.shape[0]))\n",
    "    newCentroids[2] = sum/(twoEntries.shape[0]);\n",
    "    return newCentroids"
   ]
  },
  {
   "cell_type": "code",
   "execution_count": 32,
   "metadata": {
    "collapsed": false
   },
   "outputs": [
    {
     "name": "stdout",
     "output_type": "stream",
     "text": [
      "1\n",
      "(191, 2, 103, 2, 6, 2)\n",
      "[ 2.42830111  3.15792418]\n",
      "[ 5.81350331  2.63365645]\n",
      "[ 7.11938687  3.6166844 ]\n",
      "2\n",
      "(179, 2, 91, 2, 30, 2)\n",
      "[ 2.31325526  3.22830617]\n",
      "[ 5.33273768  2.43159599]\n",
      "[ 6.8653618   3.23293995]\n",
      "3\n",
      "(164, 2, 88, 2, 48, 2)\n",
      "[ 2.19692479  3.42136707]\n",
      "[ 4.83555397  2.12976745]\n",
      "[ 6.6560054  3.0751355]\n",
      "4\n",
      "(131, 2, 93, 2, 76, 2)\n",
      "[ 1.98241171  4.0250785 ]\n",
      "[ 3.91150763  1.47060546]\n",
      "[ 6.34008592  3.05366642]\n",
      "5\n",
      "(98, 2, 108, 2, 94, 2)\n",
      "[ 1.95399466  5.02557006]\n",
      "[ 3.12663743  1.1121712 ]\n",
      "[ 6.12919526  3.01606258]\n",
      "6\n",
      "(98, 2, 102, 2, 100, 2)\n",
      "[ 1.95399466  5.02557006]\n",
      "[ 3.04367119  1.01541041]\n",
      "[ 6.03366736  3.00052511]\n",
      "7\n",
      "(98, 2, 102, 2, 100, 2)\n",
      "[ 1.95399466  5.02557006]\n",
      "[ 3.04367119  1.01541041]\n",
      "[ 6.03366736  3.00052511]\n",
      "7\n"
     ]
    }
   ],
   "source": [
    "conclusion = False;\n",
    "iterations = 0\n",
    "while (conclusion == False or iterations == 400):\n",
    "    iterations = iterations + 1\n",
    "    print(iterations)\n",
    "    cindex = getClusters()\n",
    "    newCentroids = getNewCentroids(cindex)\n",
    "    conclusion = np.array_equal(newCentroids,initial_centroids)\n",
    "    initial_centroids = newCentroids\n",
    "    cindex = np.zeros((300,1))\n",
    "print(iterations)"
   ]
  },
  {
   "cell_type": "code",
   "execution_count": 33,
   "metadata": {
    "collapsed": false
   },
   "outputs": [
    {
     "data": {
      "text/plain": [
       "array([[ 0.],\n",
       "       [ 0.],\n",
       "       [ 0.],\n",
       "       [ 0.],\n",
       "       [ 0.],\n",
       "       [ 0.],\n",
       "       [ 0.],\n",
       "       [ 0.],\n",
       "       [ 0.],\n",
       "       [ 0.],\n",
       "       [ 0.],\n",
       "       [ 0.],\n",
       "       [ 0.],\n",
       "       [ 0.],\n",
       "       [ 0.],\n",
       "       [ 0.],\n",
       "       [ 0.],\n",
       "       [ 0.],\n",
       "       [ 0.],\n",
       "       [ 0.],\n",
       "       [ 0.],\n",
       "       [ 0.],\n",
       "       [ 0.],\n",
       "       [ 0.],\n",
       "       [ 0.],\n",
       "       [ 0.],\n",
       "       [ 0.],\n",
       "       [ 0.],\n",
       "       [ 0.],\n",
       "       [ 0.],\n",
       "       [ 0.],\n",
       "       [ 0.],\n",
       "       [ 0.],\n",
       "       [ 0.],\n",
       "       [ 0.],\n",
       "       [ 0.],\n",
       "       [ 0.],\n",
       "       [ 0.],\n",
       "       [ 0.],\n",
       "       [ 0.],\n",
       "       [ 0.],\n",
       "       [ 0.],\n",
       "       [ 0.],\n",
       "       [ 0.],\n",
       "       [ 0.],\n",
       "       [ 0.],\n",
       "       [ 0.],\n",
       "       [ 0.],\n",
       "       [ 0.],\n",
       "       [ 0.],\n",
       "       [ 0.],\n",
       "       [ 0.],\n",
       "       [ 0.],\n",
       "       [ 0.],\n",
       "       [ 0.],\n",
       "       [ 0.],\n",
       "       [ 0.],\n",
       "       [ 0.],\n",
       "       [ 0.],\n",
       "       [ 0.],\n",
       "       [ 0.],\n",
       "       [ 0.],\n",
       "       [ 0.],\n",
       "       [ 0.],\n",
       "       [ 0.],\n",
       "       [ 0.],\n",
       "       [ 0.],\n",
       "       [ 0.],\n",
       "       [ 0.],\n",
       "       [ 0.],\n",
       "       [ 0.],\n",
       "       [ 0.],\n",
       "       [ 0.],\n",
       "       [ 0.],\n",
       "       [ 0.],\n",
       "       [ 0.],\n",
       "       [ 0.],\n",
       "       [ 0.],\n",
       "       [ 0.],\n",
       "       [ 0.],\n",
       "       [ 0.],\n",
       "       [ 0.],\n",
       "       [ 0.],\n",
       "       [ 0.],\n",
       "       [ 0.],\n",
       "       [ 0.],\n",
       "       [ 0.],\n",
       "       [ 0.],\n",
       "       [ 0.],\n",
       "       [ 0.],\n",
       "       [ 0.],\n",
       "       [ 0.],\n",
       "       [ 0.],\n",
       "       [ 0.],\n",
       "       [ 0.],\n",
       "       [ 0.],\n",
       "       [ 0.],\n",
       "       [ 0.],\n",
       "       [ 0.],\n",
       "       [ 0.],\n",
       "       [ 0.],\n",
       "       [ 0.],\n",
       "       [ 0.],\n",
       "       [ 0.],\n",
       "       [ 0.],\n",
       "       [ 0.],\n",
       "       [ 0.],\n",
       "       [ 0.],\n",
       "       [ 0.],\n",
       "       [ 0.],\n",
       "       [ 0.],\n",
       "       [ 0.],\n",
       "       [ 0.],\n",
       "       [ 0.],\n",
       "       [ 0.],\n",
       "       [ 0.],\n",
       "       [ 0.],\n",
       "       [ 0.],\n",
       "       [ 0.],\n",
       "       [ 0.],\n",
       "       [ 0.],\n",
       "       [ 0.],\n",
       "       [ 0.],\n",
       "       [ 0.],\n",
       "       [ 0.],\n",
       "       [ 0.],\n",
       "       [ 0.],\n",
       "       [ 0.],\n",
       "       [ 0.],\n",
       "       [ 0.],\n",
       "       [ 0.],\n",
       "       [ 0.],\n",
       "       [ 0.],\n",
       "       [ 0.],\n",
       "       [ 0.],\n",
       "       [ 0.],\n",
       "       [ 0.],\n",
       "       [ 0.],\n",
       "       [ 0.],\n",
       "       [ 0.],\n",
       "       [ 0.],\n",
       "       [ 0.],\n",
       "       [ 0.],\n",
       "       [ 0.],\n",
       "       [ 0.],\n",
       "       [ 0.],\n",
       "       [ 0.],\n",
       "       [ 0.],\n",
       "       [ 0.],\n",
       "       [ 0.],\n",
       "       [ 0.],\n",
       "       [ 0.],\n",
       "       [ 0.],\n",
       "       [ 0.],\n",
       "       [ 0.],\n",
       "       [ 0.],\n",
       "       [ 0.],\n",
       "       [ 0.],\n",
       "       [ 0.],\n",
       "       [ 0.],\n",
       "       [ 0.],\n",
       "       [ 0.],\n",
       "       [ 0.],\n",
       "       [ 0.],\n",
       "       [ 0.],\n",
       "       [ 0.],\n",
       "       [ 0.],\n",
       "       [ 0.],\n",
       "       [ 0.],\n",
       "       [ 0.],\n",
       "       [ 0.],\n",
       "       [ 0.],\n",
       "       [ 0.],\n",
       "       [ 0.],\n",
       "       [ 0.],\n",
       "       [ 0.],\n",
       "       [ 0.],\n",
       "       [ 0.],\n",
       "       [ 0.],\n",
       "       [ 0.],\n",
       "       [ 0.],\n",
       "       [ 0.],\n",
       "       [ 0.],\n",
       "       [ 0.],\n",
       "       [ 0.],\n",
       "       [ 0.],\n",
       "       [ 0.],\n",
       "       [ 0.],\n",
       "       [ 0.],\n",
       "       [ 0.],\n",
       "       [ 0.],\n",
       "       [ 0.],\n",
       "       [ 0.],\n",
       "       [ 0.],\n",
       "       [ 0.],\n",
       "       [ 0.],\n",
       "       [ 0.],\n",
       "       [ 0.],\n",
       "       [ 0.],\n",
       "       [ 0.],\n",
       "       [ 0.],\n",
       "       [ 0.],\n",
       "       [ 0.],\n",
       "       [ 0.],\n",
       "       [ 0.],\n",
       "       [ 0.],\n",
       "       [ 0.],\n",
       "       [ 0.],\n",
       "       [ 0.],\n",
       "       [ 0.],\n",
       "       [ 0.],\n",
       "       [ 0.],\n",
       "       [ 0.],\n",
       "       [ 0.],\n",
       "       [ 0.],\n",
       "       [ 0.],\n",
       "       [ 0.],\n",
       "       [ 0.],\n",
       "       [ 0.],\n",
       "       [ 0.],\n",
       "       [ 0.],\n",
       "       [ 0.],\n",
       "       [ 0.],\n",
       "       [ 0.],\n",
       "       [ 0.],\n",
       "       [ 0.],\n",
       "       [ 0.],\n",
       "       [ 0.],\n",
       "       [ 0.],\n",
       "       [ 0.],\n",
       "       [ 0.],\n",
       "       [ 0.],\n",
       "       [ 0.],\n",
       "       [ 0.],\n",
       "       [ 0.],\n",
       "       [ 0.],\n",
       "       [ 0.],\n",
       "       [ 0.],\n",
       "       [ 0.],\n",
       "       [ 0.],\n",
       "       [ 0.],\n",
       "       [ 0.],\n",
       "       [ 0.],\n",
       "       [ 0.],\n",
       "       [ 0.],\n",
       "       [ 0.],\n",
       "       [ 0.],\n",
       "       [ 0.],\n",
       "       [ 0.],\n",
       "       [ 0.],\n",
       "       [ 0.],\n",
       "       [ 0.],\n",
       "       [ 0.],\n",
       "       [ 0.],\n",
       "       [ 0.],\n",
       "       [ 0.],\n",
       "       [ 0.],\n",
       "       [ 0.],\n",
       "       [ 0.],\n",
       "       [ 0.],\n",
       "       [ 0.],\n",
       "       [ 0.],\n",
       "       [ 0.],\n",
       "       [ 0.],\n",
       "       [ 0.],\n",
       "       [ 0.],\n",
       "       [ 0.],\n",
       "       [ 0.],\n",
       "       [ 0.],\n",
       "       [ 0.],\n",
       "       [ 0.],\n",
       "       [ 0.],\n",
       "       [ 0.],\n",
       "       [ 0.],\n",
       "       [ 0.],\n",
       "       [ 0.],\n",
       "       [ 0.],\n",
       "       [ 0.],\n",
       "       [ 0.],\n",
       "       [ 0.],\n",
       "       [ 0.],\n",
       "       [ 0.],\n",
       "       [ 0.],\n",
       "       [ 0.],\n",
       "       [ 0.],\n",
       "       [ 0.],\n",
       "       [ 0.],\n",
       "       [ 0.],\n",
       "       [ 0.],\n",
       "       [ 0.],\n",
       "       [ 0.],\n",
       "       [ 0.],\n",
       "       [ 0.],\n",
       "       [ 0.],\n",
       "       [ 0.],\n",
       "       [ 0.],\n",
       "       [ 0.],\n",
       "       [ 0.],\n",
       "       [ 0.],\n",
       "       [ 0.]])"
      ]
     },
     "execution_count": 33,
     "metadata": {},
     "output_type": "execute_result"
    }
   ],
   "source": [
    "cindex"
   ]
  },
  {
   "cell_type": "code",
   "execution_count": 38,
   "metadata": {
    "collapsed": false
   },
   "outputs": [
    {
     "name": "stdout",
     "output_type": "stream",
     "text": [
      "49152\n"
     ]
    },
    {
     "data": {
      "image/png": "[encoded data removed]",
      "text/plain": [
       "<matplotlib.figure.Figure at 0x103048c550>"
      ]
     },
     "metadata": {},
     "output_type": "display_data"
    }
   ],
   "source": [
    "#from scipy import misc\n",
    "#f = misc.face()\n",
    "#misc.imsave('C:/Users/rakesh/Desktop/ML/clustering/bird_small.png', f) # uses the Image module (PIL)\n",
    "\n",
    "import matplotlib.pyplot as plt\n",
    "\n",
    "\n",
    "import scipy\n",
    "import scipy.misc\n",
    "j = scipy.misc.imread('C:/Users/rakesh/Desktop/ML/clustering/bird_small.png')\n",
    "print(j.size)\n",
    "\n",
    "plt.imshow(j)\n",
    "plt.show()"
   ]
  },
  {
   "cell_type": "code",
   "execution_count": 42,
   "metadata": {
    "collapsed": false
   },
   "outputs": [],
   "source": [
    "X = j.reshape((j.shape[0] * j.shape[1]), 3);"
   ]
  },
  {
   "cell_type": "code",
   "execution_count": 43,
   "metadata": {
    "collapsed": false
   },
   "outputs": [
    {
     "name": "stdout",
     "output_type": "stream",
     "text": [
      "[[ 0.85882353  0.70588235  0.40392157]\n",
      " [ 0.90196078  0.7254902   0.45490196]\n",
      " [ 0.88627451  0.72941176  0.43137255]\n",
      " ..., \n",
      " [ 0.25490196  0.16862745  0.15294118]\n",
      " [ 0.22745098  0.14509804  0.14901961]\n",
      " [ 0.20392157  0.15294118  0.13333333]]\n"
     ]
    }
   ],
   "source": [
    "print(X/255)"
   ]
  },
  {
   "cell_type": "code",
   "execution_count": 44,
   "metadata": {
    "collapsed": true
   },
   "outputs": [],
   "source": [
    "K=16"
   ]
  },
  {
   "cell_type": "code",
   "execution_count": 45,
   "metadata": {
    "collapsed": false
   },
   "outputs": [
    {
     "data": {
      "text/plain": [
       "(16384, 3)"
      ]
     },
     "execution_count": 45,
     "metadata": {},
     "output_type": "execute_result"
    }
   ],
   "source": [
    "np.random.permutation(X).shape"
   ]
  },
  {
   "cell_type": "code",
   "execution_count": 46,
   "metadata": {
    "collapsed": false
   },
   "outputs": [
    {
     "data": {
      "text/plain": [
       "array([[ 1.95399466,  5.02557006],\n",
       "       [ 3.04367119,  1.01541041],\n",
       "       [ 6.03366736,  3.00052511]])"
      ]
     },
     "execution_count": 46,
     "metadata": {},
     "output_type": "execute_result"
    }
   ],
   "source": [
    "initial_centroids"
   ]
  },
  {
   "cell_type": "code",
   "execution_count": 47,
   "metadata": {
    "collapsed": false
   },
   "outputs": [
    {
     "data": {
      "text/plain": [
       "(3, 2)"
      ]
     },
     "execution_count": 47,
     "metadata": {},
     "output_type": "execute_result"
    }
   ],
   "source": [
    "initial_centroids.shape"
   ]
  },
  {
   "cell_type": "code",
   "execution_count": 48,
   "metadata": {
    "collapsed": false
   },
   "outputs": [
    {
     "name": "stdout",
     "output_type": "stream",
     "text": [
      "[  0.   0.   5.  13.   9.   1.   0.   0.   0.   0.  13.  15.  10.  15.   5.\n",
      "   0.   0.   3.  15.   2.   0.  11.   8.   0.   0.   4.  12.   0.   0.   8.\n",
      "   8.   0.   0.   5.   8.   0.   0.   9.   8.   0.   0.   4.  11.   0.   1.\n",
      "  12.   7.   0.   0.   2.  14.   5.  10.  12.   0.   0.   0.   0.   6.  13.\n",
      "  10.   0.   0.   0.]\n"
     ]
    },
    {
     "data": {
      "text/plain": [
       "<matplotlib.figure.Figure at 0x102d7019b0>"
      ]
     },
     "metadata": {},
     "output_type": "display_data"
    },
    {
     "data": {
      "image/png": "[encoded data removed]",
      "text/plain": [
       "<matplotlib.figure.Figure at 0x1032aa9710>"
      ]
     },
     "metadata": {},
     "output_type": "display_data"
    }
   ],
   "source": [
    "from sklearn.datasets import load_digits\n",
    "digits = load_digits()\n",
    "print(digits.data[0])\n",
    "import matplotlib.pyplot as plt \n",
    "plt.gray() \n",
    "plt.matshow(digits.images[6]) \n",
    "plt.show()"
   ]
  },
  {
   "cell_type": "code",
   "execution_count": 49,
   "metadata": {
    "collapsed": false
   },
   "outputs": [
    {
     "data": {
      "text/plain": [
       "1797"
      ]
     },
     "execution_count": 49,
     "metadata": {},
     "output_type": "execute_result"
    }
   ],
   "source": [
    "digits.target.size"
   ]
  },
  {
   "cell_type": "code",
   "execution_count": 50,
   "metadata": {
    "collapsed": false
   },
   "outputs": [],
   "source": [
    "n_digits = len(np.unique(digits.target))"
   ]
  },
  {
   "cell_type": "code",
   "execution_count": 51,
   "metadata": {
    "collapsed": false
   },
   "outputs": [
    {
     "data": {
      "text/plain": [
       "10"
      ]
     },
     "execution_count": 51,
     "metadata": {},
     "output_type": "execute_result"
    }
   ],
   "source": [
    "n_digits"
   ]
  },
  {
   "cell_type": "code",
   "execution_count": 52,
   "metadata": {
    "collapsed": true
   },
   "outputs": [],
   "source": [
    "K=n_digits"
   ]
  },
  {
   "cell_type": "code",
   "execution_count": 53,
   "metadata": {
    "collapsed": true
   },
   "outputs": [],
   "source": [
    "X = digits.data"
   ]
  },
  {
   "cell_type": "code",
   "execution_count": 54,
   "metadata": {
    "collapsed": true
   },
   "outputs": [],
   "source": [
    "from sklearn.preprocessing import scale\n",
    "X = scale(X)"
   ]
  },
  {
   "cell_type": "code",
   "execution_count": 55,
   "metadata": {
    "collapsed": false
   },
   "outputs": [],
   "source": [
    "cindex = np.zeros((X.shape[0],1))\n",
    "def getClusters():\n",
    "    #print('called')\n",
    "    r = 0\n",
    "    c = 0\n",
    "    dist = np.matrix(np.zeros((X.shape[0],K)))\n",
    "    for i in np.matrix(X):\n",
    "        z = i - initial_centroids\n",
    "        c = 0\n",
    "        for x in z:\n",
    "            dist[r,c] = np.sqrt(np.matrix(x).dot(np.matrix(x).transpose()))\n",
    "            c = c + 1        \n",
    "        r = r + 1        \n",
    "        cindex = dist.argmin(1)\n",
    "        #print(cindex[0:100])\n",
    "    return cindex"
   ]
  },
  {
   "cell_type": "code",
   "execution_count": 56,
   "metadata": {
    "collapsed": false
   },
   "outputs": [],
   "source": [
    "def getNewCentroids(cindex):\n",
    "    newCentroids = np.zeros((K,X.shape[1]))\n",
    "    for i in range(0,K,1):\n",
    "        sum = 0        \n",
    "        temp = np.transpose(np.where(cindex == i))\n",
    "        #print(temp)\n",
    "        for g in temp:\n",
    "            #print(X[g[0]])\n",
    "            sum = sum + X[g[0]]\n",
    "        #print(sum/(temp.shape[0]))\n",
    "        #print(sum)\n",
    "        newCentroids[i] = sum/(temp.shape[0]);   \n",
    "        #print(newCentroids[i])\n",
    "    return newCentroids"
   ]
  },
  {
   "cell_type": "code",
   "execution_count": 57,
   "metadata": {
    "collapsed": true
   },
   "outputs": [],
   "source": [
    "initial_centroids = np.random.permutation(X)[:K]"
   ]
  },
  {
   "cell_type": "code",
   "execution_count": 58,
   "metadata": {
    "collapsed": false
   },
   "outputs": [
    {
     "name": "stdout",
     "output_type": "stream",
     "text": [
      "1\n",
      "2\n",
      "3\n",
      "4\n",
      "5\n",
      "6\n",
      "7\n",
      "8\n",
      "9\n",
      "10\n",
      "11\n",
      "12\n",
      "13\n",
      "14\n",
      "15\n",
      "16\n",
      "17\n",
      "18\n",
      "iterations finished\n"
     ]
    },
    {
     "ename": "NameError",
     "evalue": "name 'metrics' is not defined",
     "output_type": "error",
     "traceback": [
      "\u001b[0;31m---------------------------------------------------------------------------\u001b[0m",
      "\u001b[0;31mNameError\u001b[0m                                 Traceback (most recent call last)",
      "\u001b[0;32m<ipython-input-58-7542a38a0380>\u001b[0m in \u001b[0;36m<module>\u001b[0;34m()\u001b[0m\n\u001b[1;32m     15\u001b[0m     \u001b[0mcindex\u001b[0m \u001b[1;33m=\u001b[0m \u001b[0mnp\u001b[0m\u001b[1;33m.\u001b[0m\u001b[0mzeros\u001b[0m\u001b[1;33m(\u001b[0m\u001b[1;33m(\u001b[0m\u001b[0mX\u001b[0m\u001b[1;33m.\u001b[0m\u001b[0mshape\u001b[0m\u001b[1;33m[\u001b[0m\u001b[1;36m0\u001b[0m\u001b[1;33m]\u001b[0m\u001b[1;33m,\u001b[0m\u001b[1;36m1\u001b[0m\u001b[1;33m)\u001b[0m\u001b[1;33m)\u001b[0m\u001b[1;33m\u001b[0m\u001b[0m\n\u001b[1;32m     16\u001b[0m \u001b[0mprint\u001b[0m\u001b[1;33m(\u001b[0m\u001b[1;34m\"iterations finished\"\u001b[0m\u001b[1;33m)\u001b[0m\u001b[1;33m\u001b[0m\u001b[0m\n\u001b[0;32m---> 17\u001b[0;31m \u001b[0mprint\u001b[0m\u001b[1;33m(\u001b[0m\u001b[0mmetrics\u001b[0m\u001b[1;33m.\u001b[0m\u001b[0mhomogeneity_score\u001b[0m\u001b[1;33m(\u001b[0m\u001b[0mlabels\u001b[0m\u001b[1;33m,\u001b[0m \u001b[0mlastIndex\u001b[0m\u001b[1;33m.\u001b[0m\u001b[0mA1\u001b[0m\u001b[1;33m)\u001b[0m\u001b[1;33m)\u001b[0m\u001b[1;33m\u001b[0m\u001b[0m\n\u001b[0m\u001b[1;32m     18\u001b[0m \u001b[0mprint\u001b[0m\u001b[1;33m(\u001b[0m\u001b[0mmetrics\u001b[0m\u001b[1;33m.\u001b[0m\u001b[0mcompleteness_score\u001b[0m\u001b[1;33m(\u001b[0m\u001b[0mlabels\u001b[0m\u001b[1;33m,\u001b[0m \u001b[0mlastIndex\u001b[0m\u001b[1;33m.\u001b[0m\u001b[0mA1\u001b[0m\u001b[1;33m)\u001b[0m\u001b[1;33m)\u001b[0m\u001b[1;33m\u001b[0m\u001b[0m\n\u001b[1;32m     19\u001b[0m \u001b[0mprint\u001b[0m\u001b[1;33m(\u001b[0m\u001b[0mmetrics\u001b[0m\u001b[1;33m.\u001b[0m\u001b[0mv_measure_score\u001b[0m\u001b[1;33m(\u001b[0m\u001b[0mlabels\u001b[0m\u001b[1;33m,\u001b[0m \u001b[0mlastIndex\u001b[0m\u001b[1;33m.\u001b[0m\u001b[0mA1\u001b[0m\u001b[1;33m)\u001b[0m\u001b[1;33m)\u001b[0m\u001b[1;33m\u001b[0m\u001b[0m\n",
      "\u001b[0;31mNameError\u001b[0m: name 'metrics' is not defined"
     ]
    }
   ],
   "source": [
    "initial_centroids = np.random.permutation(X)[:K]\n",
    "conclusion = False;\n",
    "iterations = 0\n",
    "lastIndex = cindex\n",
    "while (conclusion == False or iterations == 400):\n",
    "    iterations = iterations + 1\n",
    "    print(iterations)\n",
    "    cindex = getClusters()\n",
    "    lastIndex = cindex\n",
    "    newCentroids = getNewCentroids(cindex)\n",
    "    #print(initial_centroids)\n",
    "    #print(newCentroids)\n",
    "    conclusion = np.array_equal(newCentroids,initial_centroids)\n",
    "    initial_centroids = newCentroids\n",
    "    cindex = np.zeros((X.shape[0],1))\n",
    "print(\"iterations finished\")\n",
    "print(metrics.homogeneity_score(labels, lastIndex.A1))\n",
    "print(metrics.completeness_score(labels, lastIndex.A1))\n",
    "print(metrics.v_measure_score(labels, lastIndex.A1))\n",
    "print(metrics.adjusted_rand_score(labels, lastIndex.A1))\n",
    "print(metrics.adjusted_mutual_info_score(labels,  lastIndex.A1))\n",
    "print(metrics.silhouette_score(X,lastIndex.A1,\n",
    "                                      metric='euclidean',\n",
    "                                      sample_size=300))\n",
    "print(np.where(np.equal(labels,lastIndex.A1) == True))\n",
    "print(np.where(np.equal(labels,lastIndex.A1) == False))\n",
    "print(len(np.where(np.equal(labels,lastIndex.A1) == True)[0]))\n",
    "print(len(np.where(np.equal(labels,lastIndex.A1) == False)[0]))"
   ]
  },
  {
   "cell_type": "code",
   "execution_count": 59,
   "metadata": {
    "collapsed": false
   },
   "outputs": [
    {
     "ename": "NameError",
     "evalue": "name 'labels' is not defined",
     "output_type": "error",
     "traceback": [
      "\u001b[0;31m---------------------------------------------------------------------------\u001b[0m",
      "\u001b[0;31mNameError\u001b[0m                                 Traceback (most recent call last)",
      "\u001b[0;32m<ipython-input-59-09c0c37ae975>\u001b[0m in \u001b[0;36m<module>\u001b[0;34m()\u001b[0m\n\u001b[0;32m----> 1\u001b[0;31m \u001b[0mlabels\u001b[0m\u001b[1;33m[\u001b[0m\u001b[1;36m1742\u001b[0m\u001b[1;33m]\u001b[0m\u001b[1;33m\u001b[0m\u001b[0m\n\u001b[0m",
      "\u001b[0;31mNameError\u001b[0m: name 'labels' is not defined"
     ]
    }
   ],
   "source": [
    "labels[1742]"
   ]
  },
  {
   "cell_type": "markdown",
   "metadata": {},
   "source": [
    "lastIndex"
   ]
  },
  {
   "cell_type": "code",
   "execution_count": null,
   "metadata": {
    "collapsed": false
   },
   "outputs": [],
   "source": [
    "lastIndex.A1"
   ]
  },
  {
   "cell_type": "code",
   "execution_count": null,
   "metadata": {
    "collapsed": false
   },
   "outputs": [],
   "source": [
    "from sklearn import metrics\n",
    "print(metrics.completeness_score(labels, lastIndex.A1))\n",
    "print(metrics.v_measure_score(labels, lastIndex.A1))\n",
    "print(metrics.adjusted_rand_score(labels, lastIndex.A1))\n",
    "print(metrics.adjusted_mutual_info_score(labels,  lastIndex.A1))"
   ]
  },
  {
   "cell_type": "code",
   "execution_count": null,
   "metadata": {
    "collapsed": false
   },
   "outputs": [],
   "source": [
    "np.where(np.equal(labels,lastIndex.A1) == False)"
   ]
  },
  {
   "cell_type": "code",
   "execution_count": null,
   "metadata": {
    "collapsed": false
   },
   "outputs": [],
   "source": [
    "for i in range(0,K,1):\n",
    "        print(i)"
   ]
  },
  {
   "cell_type": "code",
   "execution_count": null,
   "metadata": {
    "collapsed": false
   },
   "outputs": [],
   "source": [
    "(216/1581)"
   ]
  },
  {
   "cell_type": "code",
   "execution_count": null,
   "metadata": {
    "collapsed": true
   },
   "outputs": [],
   "source": []
  }
 ],
 "metadata": {
  "anaconda-cloud": {},
  "kernelspec": {
   "display_name": "Python [conda root]",
   "language": "python",
   "name": "conda-root-py"
  },
  "language_info": {
   "codemirror_mode": {
    "name": "ipython",
    "version": 3
   },
   "file_extension": ".py",
   "mimetype": "text/x-python",
   "name": "python",
   "nbconvert_exporter": "python",
   "pygments_lexer": "ipython3",
   "version": "3.5.2"
  }
 },
 "nbformat": 4,
 "nbformat_minor": 1
}
